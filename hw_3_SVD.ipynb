{
 "cells": [
  {
   "cell_type": "code",
   "execution_count": 1,
   "metadata": {},
   "outputs": [],
   "source": [
    "import numpy as np\n",
    "import pandas as pd\n",
    "# A=[3 7 5 2] 2)B=[0 1 3 2 3 1 0 1 0] 3)C=[5 7 6 4 2 1 3 4 1 3 3 4 5 4 1]"
   ]
  },
  {
   "cell_type": "code",
   "execution_count": 2,
   "metadata": {},
   "outputs": [
    {
     "name": "stdout",
     "output_type": "stream",
     "text": [
      "U:\n",
      "          0         1\n",
      "0 -0.850651 -0.525731\n",
      "1 -0.525731  0.850651\n",
      "Σ:\n",
      "         0         1\n",
      "0  8.71338  0.000000\n",
      "1  0.00000  3.328215\n",
      "V*:\n",
      "          0         1\n",
      "0 -0.594558 -0.804053\n",
      "1  0.804053 -0.594558\n",
      "[[3. 7.]\n",
      " [5. 2.]]\n"
     ]
    }
   ],
   "source": [
    "a = np.matrix('3 7; 5 2')\n",
    "\n",
    "u, s, vh = np.linalg.svd(a)\n",
    "s = np.diag(s)\n",
    "\n",
    "print('U:')\n",
    "print(pd.DataFrame(u))\n",
    "print('Σ:')\n",
    "print(pd.DataFrame(s))\n",
    "print('V*:')\n",
    "print(pd.DataFrame(vh))\n",
    "\n",
    "print(u * s * vh)"
   ]
  },
  {
   "cell_type": "code",
   "execution_count": 3,
   "metadata": {},
   "outputs": [
    {
     "name": "stdout",
     "output_type": "stream",
     "text": [
      "U:\n",
      "          0         1         2\n",
      "0 -0.566680  0.822779  0.043688\n",
      "1 -0.806742 -0.543297 -0.232369\n",
      "2 -0.167453 -0.166924  0.971646\n",
      "Σ:\n",
      "          0         1         2\n",
      "0  4.340193  0.000000  0.000000\n",
      "1  0.000000  2.415618  0.000000\n",
      "2  0.000000  0.000000  0.572287\n",
      "V*:\n",
      "          0         1         2\n",
      "0 -0.371754 -0.726779 -0.577574\n",
      "1 -0.449820 -0.403224  0.796914\n",
      "2 -0.812072  0.556060 -0.177020\n"
     ]
    }
   ],
   "source": [
    "b = np.matrix('0 1 3; 2 3 1; 0 1 0')\n",
    "\n",
    "u, s, vh = np.linalg.svd(b)\n",
    "s = np.diag(s)\n",
    "\n",
    "print('U:')\n",
    "print(pd.DataFrame(u))\n",
    "print('Σ:')\n",
    "print(pd.DataFrame(s))\n",
    "print('V*:')\n",
    "print(pd.DataFrame(vh))"
   ]
  },
  {
   "cell_type": "code",
   "execution_count": 4,
   "metadata": {},
   "outputs": [
    {
     "name": "stdout",
     "output_type": "stream",
     "text": [
      "U:\n",
      "          0         1         2\n",
      "0 -0.759279  0.234453 -0.607064\n",
      "1 -0.363971 -0.926294  0.097490\n",
      "2 -0.539463  0.294976  0.788650\n",
      "Σ:\n",
      "           0         1         2\n",
      "0  14.947134  0.000000  0.000000\n",
      "1   0.000000  2.727399  0.000000\n",
      "2   0.000000  0.000000  1.464408\n",
      "V*:\n",
      "          0         1         2         3         4\n",
      "0 -0.386613 -0.573001 -0.582645 -0.371907 -0.210738\n",
      "1  0.414643  0.015469 -0.301965  0.436834 -0.738799\n",
      "2 -0.390522 -0.547922  0.471742  0.562569 -0.090828\n",
      "3 -0.437206  0.367253 -0.530628  0.548116  0.303280\n",
      "4  0.578744 -0.486145 -0.255413  0.232263  0.556360\n"
     ]
    }
   ],
   "source": [
    "c = np.matrix('5 7 6 4 2; 1 3 4 1 3; 3 4 5 4 1')\n",
    "\n",
    "u, s, vh = np.linalg.svd(c)\n",
    "s = np.diag(s)\n",
    "\n",
    "print('U:')\n",
    "print(pd.DataFrame(u))\n",
    "print('Σ:')\n",
    "print(pd.DataFrame(s))\n",
    "print('V*:')\n",
    "print(pd.DataFrame(vh))"
   ]
  },
  {
   "cell_type": "code",
   "execution_count": null,
   "metadata": {},
   "outputs": [],
   "source": []
  }
 ],
 "metadata": {
  "kernelspec": {
   "display_name": "Python 3",
   "language": "python",
   "name": "python3"
  },
  "language_info": {
   "codemirror_mode": {
    "name": "ipython",
    "version": 3
   },
   "file_extension": ".py",
   "mimetype": "text/x-python",
   "name": "python",
   "nbconvert_exporter": "python",
   "pygments_lexer": "ipython3",
   "version": "3.7.7"
  }
 },
 "nbformat": 4,
 "nbformat_minor": 2
}
